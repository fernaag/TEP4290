{
 "metadata": {
  "language_info": {
   "codemirror_mode": {
    "name": "ipython",
    "version": 3
   },
   "file_extension": ".py",
   "mimetype": "text/x-python",
   "name": "python",
   "nbconvert_exporter": "python",
   "pygments_lexer": "ipython3",
   "version": "3.7.4-final"
  },
  "orig_nbformat": 2,
  "kernelspec": {
   "name": "python3",
   "display_name": "Python 3"
  }
 },
 "nbformat": 4,
 "nbformat_minor": 2,
 "cells": [
  {
   "source": [
    "# Dynamic Modelling Course - TEP4290: Warm-up 1\n",
    "The point of this exercise is for you to practice what you have learned in the recommended videos. You will perform some basic operations that are designed to help you get comforable with Python. The exercise is not graded and will be discussed in the next exercises session in detail to clarify any doubts you may still have. \n",
    "\n",
    "Good luck!"
   ],
   "cell_type": "markdown",
   "metadata": {}
  },
  {
   "source": [
    "# Tasks\n",
    "\n",
    "Answer the questions or complete the tasks outlined in bold below, use the specific method described if applicable."
   ],
   "cell_type": "markdown",
   "metadata": {}
  },
  {
   "source": [
    "## Variables, expressions, and statements "
   ],
   "cell_type": "markdown",
   "metadata": {}
  },
  {
   "source": [
    "** What is 7 to the power of 4?**"
   ],
   "cell_type": "markdown",
   "metadata": {}
  },
  {
   "cell_type": "code",
   "execution_count": 1,
   "metadata": {},
   "outputs": [
    {
     "output_type": "execute_result",
     "data": {
      "text/plain": [
       "2401"
      ]
     },
     "metadata": {},
     "execution_count": 1
    }
   ],
   "source": []
  },
  {
   "source": [
    "** Given the variables:**\n",
    "\n",
    "    planet = \"Earth\"\n",
    "    diameter = 12742\n",
    "\n",
    "Print the following string: **\n",
    "\n",
    "    We live on planet Earth\n",
    "    Its diameter is 12742"
   ],
   "cell_type": "markdown",
   "metadata": {}
  },
  {
   "cell_type": "code",
   "execution_count": 2,
   "metadata": {},
   "outputs": [],
   "source": [
    "planet = 'Earth'\n",
    "diameter = '12742'"
   ]
  },
  {
   "cell_type": "code",
   "execution_count": 3,
   "metadata": {},
   "outputs": [
    {
     "output_type": "stream",
     "name": "stdout",
     "text": [
      "We live on planet Earth\nIts diameter is 12742\n"
     ]
    }
   ],
   "source": []
  },
  {
   "source": [
    "** What type is the variable \"planet\"**"
   ],
   "cell_type": "markdown",
   "metadata": {}
  },
  {
   "cell_type": "code",
   "execution_count": 4,
   "metadata": {},
   "outputs": [
    {
     "output_type": "execute_result",
     "data": {
      "text/plain": [
       "str"
      ]
     },
     "metadata": {},
     "execution_count": 4
    }
   ],
   "source": []
  },
  {
   "source": [
    "** Calculate the speed of a car that can travel 200 km in 1,4h. Assign the value to a variable with a mnemonic name and print your result.**"
   ],
   "cell_type": "markdown",
   "metadata": {}
  },
  {
   "cell_type": "code",
   "execution_count": 5,
   "metadata": {},
   "outputs": [
    {
     "output_type": "stream",
     "name": "stdout",
     "text": [
      "142.85714285714286\n"
     ]
    }
   ],
   "source": []
  },
  {
   "source": [
    "** What type does this object have? Transform it an integer and assign it to a new variable. Print the new value and type of the variable.**"
   ],
   "cell_type": "markdown",
   "metadata": {}
  },
  {
   "cell_type": "code",
   "execution_count": 6,
   "metadata": {},
   "outputs": [
    {
     "output_type": "stream",
     "name": "stdout",
     "text": [
      "The value is  142  and the type is  <class 'int'>\n"
     ]
    }
   ],
   "source": []
  },
  {
   "source": [
    "** Now that you changed the type, are the two variables equal? Discuss why or why not by using a comment after the calculation with the symbol #**"
   ],
   "cell_type": "markdown",
   "metadata": {}
  },
  {
   "cell_type": "code",
   "execution_count": 7,
   "metadata": {},
   "outputs": [
    {
     "output_type": "execute_result",
     "data": {
      "text/plain": [
       "False"
      ]
     },
     "metadata": {},
     "execution_count": 7
    }
   ],
   "source": []
  },
  {
   "source": [
    "** Check whether the rounded speed is smaller than the original value **"
   ],
   "cell_type": "markdown",
   "metadata": {}
  },
  {
   "cell_type": "code",
   "execution_count": 8,
   "metadata": {},
   "outputs": [
    {
     "output_type": "execute_result",
     "data": {
      "text/plain": [
       "True"
      ]
     },
     "metadata": {},
     "execution_count": 8
    }
   ],
   "source": []
  },
  {
   "source": [
    "** Asume that the speed is now 1.2 times faster. Re-assign the value of the variable \"speed\" to the new value and print your results **"
   ],
   "cell_type": "markdown",
   "metadata": {}
  },
  {
   "cell_type": "code",
   "execution_count": 9,
   "metadata": {},
   "outputs": [
    {
     "output_type": "execute_result",
     "data": {
      "text/plain": [
       "171.42857142857142"
      ]
     },
     "metadata": {},
     "execution_count": 9
    }
   ],
   "source": []
  },
  {
   "source": [
    "## Conditional execution"
   ],
   "cell_type": "markdown",
   "metadata": {}
  },
  {
   "source": [
    " ** Write a program that calculates and prints the salary depending on the hours and rate per hour. Pay the hourly rate for the hours up to 40 and 1.5 times the hourly rate for all hours worked above 40 hours. Use 45 hours and a rate of 10.50 per hour to test the program (the pay should be 498.75). **"
   ],
   "cell_type": "markdown",
   "metadata": {}
  },
  {
   "cell_type": "code",
   "execution_count": 10,
   "metadata": {},
   "outputs": [
    {
     "output_type": "stream",
     "name": "stdout",
     "text": [
      "498.75\n"
     ]
    }
   ],
   "source": []
  },
  {
   "source": [
    "Write a program that transforms a score between 0 and 1 to A to F. If the score is out of range, print an error. If the score is between 0.0 and 1.0, print a grade using the following table:\n",
    "Score Grade\n",
    ">= 0.9 A\n",
    ">= 0.8 B\n",
    ">= 0.7 C\n",
    ">= 0.6 D\n",
    "< 0.6 F\n",
    "For the test, enter a score of 0.85, which should be transformed into a B."
   ],
   "cell_type": "markdown",
   "metadata": {}
  },
  {
   "cell_type": "code",
   "execution_count": 11,
   "metadata": {},
   "outputs": [
    {
     "output_type": "stream",
     "name": "stdout",
     "text": [
      "B\n"
     ]
    }
   ],
   "source": []
  },
  {
   "source": [
    "# Well done!"
   ],
   "cell_type": "markdown",
   "metadata": {}
  }
 ]
}