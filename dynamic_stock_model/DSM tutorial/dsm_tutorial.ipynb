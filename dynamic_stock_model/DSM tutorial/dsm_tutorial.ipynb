{
 "cells": [
  {
   "source": [
    "# Dynamic stock modelling tutorial with examples"
   ],
   "cell_type": "markdown",
   "metadata": {}
  },
  {
   "cell_type": "code",
   "execution_count": 2,
   "metadata": {},
   "outputs": [],
   "source": [
    "# Import all necessary libraries\n",
    "import numpy as np\n",
    "import pandas as pd\n",
    "import matplotlib.pyplot as plt"
   ]
  },
  {
   "source": [
    "The new version of the dynamic_stock_model library is not available as a python library. Therefore, we need to have a copy of the file in the same folder as where we are working (or provide the path explicitly)."
   ],
   "cell_type": "markdown",
   "metadata": {}
  },
  {
   "cell_type": "code",
   "execution_count": 3,
   "metadata": {},
   "outputs": [],
   "source": [
    "import dynamic_stock_model as dsm"
   ]
  },
  {
   "cell_type": "code",
   "execution_count": 4,
   "metadata": {},
   "outputs": [
    {
     "output_type": "stream",
     "name": "stdout",
     "text": [
      "Help on module dynamic_stock_model:\n\nNAME\n    dynamic_stock_model\n\nDESCRIPTION\n    Class DynamicStockModel\n    Check https://github.com/IndEcol/ODYM for latest version.\n    \n    Methods for efficient handling of dynamic stock models (DSMs)\n    \n    Created on Mon Jun 30 17:21:28 2014\n    \n    @author: Stefan Pauliuk, NTNU Trondheim, Norway, later Uni Freiburg, Germany\n    with contributions from\n    Sebastiaan Deetman, CML, Leiden, NL\n    Tomer Fishman, IDC Herzliya, IL\n    Chris Mutel, PSI, Villingen, CH\n    \n    standard abbreviation: DSM or dsm\n    \n    dependencies:\n        numpy >= 1.9\n        scipy >= 0.14\n    \n    Repository for this class, documentation, and tutorials: https://github.com/IndEcol/ODYM\n\nCLASSES\n    builtins.object\n        DynamicStockModel\n    \n    class DynamicStockModel(builtins.object)\n     |  DynamicStockModel(t=None, i=None, i_c=None, o=None, s=None, lt=None, s_c=None, o_c=None, name='DSM', pdf=None, sf=None)\n     |  \n     |  Class containing a dynamic stock model\n     |  \n     |  Attributes\n     |  ----------\n     |  t : Series of years or other time intervals\n     |  i : Discrete time series of inflow to stock\n     |  i_c : Time series from inflow to stock with age-cohorts\n     |  \n     |  o : Discrete time series of outflow from stock\n     |  o_c :Discrete time series of outflow from stock, by cohort\n     |  \n     |  s_c : dynamic stock model (stock broken down by year and age- cohort)\n     |  s : Discrete time series for stock, total\n     |  \n     |  lt : lifetime distribution: dictionary\n     |  \n     |  pdf: probability density function, distribution of outflow from a specific age-cohort\n     |  \n     |  sf: survival function for different age-cohorts, year x age-cohort table\n     |  \n     |  \n     |  name : string, optional\n     |      Name of the dynamic stock model, default is 'DSM'\n     |  \n     |  Methods defined here:\n     |  \n     |  __init__(self, t=None, i=None, i_c=None, o=None, s=None, lt=None, s_c=None, o_c=None, name='DSM', pdf=None, sf=None)\n     |      Init function. Assign the input data to the instance of the object.\n     |  \n     |  check_stock_balance(self)\n     |      Check wether inflow, outflow, and stock are balanced. If possible, the method returns the vector 'Balance', where Balance = inflow - outflow - stock_change\n     |  \n     |  compute_evolution_initialstock(self, InitialStock, SwitchTime)\n     |      Assume InitialStock is a vector that contains the age structure of the stock at time t0, \n     |      and it covers as many historic cohorts as there are elements in it.\n     |      This method then computes the future stock and outflow from the year SwitchTime onwards.\n     |      Only future years, i.e., years after SwitchTime, are computed.\n     |      NOTE: This method ignores and deletes previously calculated s_c and o_c.\n     |      The InitialStock is a vector of the age-cohort composition of the stock at SwitchTime, with length SwitchTime\n     |  \n     |  compute_i_c_from_s_c(self, InitialStock)\n     |      Given a stock at t0 broken down by different cohorts tx ... t0, an \"initial stock\". \n     |      This method calculates the original inflow that generated this stock.\n     |      Example:\n     |  \n     |  compute_i_from_s(self, InitialStock)\n     |      Given a stock at t0 broken down by different cohorts tx ... t0, an \"initial stock\". \n     |      This method calculates the original inflow that generated this stock.\n     |      Example:\n     |  \n     |  compute_o_c_from_s_c(self)\n     |      Compute outflow by cohort from stock by cohort.\n     |  \n     |  compute_o_c_from_s_c_with_i_c(self)\n     |      Compute outflow by cohort from stock by cohort.\n     |  \n     |  compute_outflow_mb(self)\n     |      Compute outflow from process via mass balance. \n     |      Needed in cases where lifetime is zero.\n     |  \n     |  compute_outflow_pdf(self)\n     |      Lifetime model. The method compute outflow_pdf returns an array year-by-cohort of the probability of a item added to stock in year m (aka cohort m) leaves in in year n. This value equals pdf(n,m).\n     |      This is the only method for the inflow-driven model where the lifetime distribution directly enters the computation. All other stock variables are determined by mass balance.\n     |      The shape of the output pdf array is NoofYears * NoofYears, but the meaning is years by age-cohorts.\n     |      The method does nothing if the pdf alreay exists.\n     |  \n     |  compute_outflow_total(self)\n     |      Determine total outflow as row sum of cohort-specific outflow.\n     |  \n     |  compute_s_c_from_i_c(self)\n     |      With given inflow and lifetime distribution, the method builds the stock by cohort. It also allows for older cohorts to be considered in the model.\n     |  \n     |  compute_s_c_inflow_driven(self)\n     |      With given inflow and lifetime distribution, the method builds the stock by cohort.\n     |  \n     |  compute_sf(self)\n     |      Survival table self.sf(m,n) denotes the share of an inflow in year n (age-cohort) still present at the end of year m (after m-n years).\n     |      The computation is self.sf(m,n) = ProbDist.sf(m-n), where ProbDist is the appropriate scipy function for the lifetime model chosen.\n     |      For lifetimes 0 the sf is also 0, meaning that the age-cohort leaves during the same year of the inflow.\n     |      The method compute outflow_sf returns an array year-by-cohort of the surviving fraction of a flow added to stock in year m (aka cohort m) in in year n. This value equals sf(n,m).\n     |      This is the only method for the inflow-driven model where the lifetime distribution directly enters the computation. All other stock variables are determined by mass balance.\n     |      The shape of the output sf array is NoofYears * NoofYears, and the meaning is years by age-cohorts.\n     |      The method does nothing if the sf alreay exists. For example, sf could be assigned to the dynamic stock model from an exogenous computation to save time.\n     |  \n     |  compute_stock_change(self)\n     |      Determine stock change from time series for stock. Formula: stock_change(t) = stock(t) - stock(t-1).\n     |  \n     |  compute_stock_driven_model(self, NegativeInflowCorrect=False)\n     |      With given total stock and lifetime distribution, \n     |      the method builds the stock by cohort and the inflow.\n     |  \n     |  compute_stock_driven_model_initialstock(self, InitialStock, SwitchTime, NegativeInflowCorrect=False)\n     |      With given total stock and lifetime distribution, the method builds the stock by cohort and the inflow.\n     |      The extra parameter InitialStock is a vector that contains the age structure of the stock at the END of the year Switchtime -1 = t0.\n     |      ***\n     |      Convention 1: Stocks are measured AT THE END OF THE YEAR. Flows occur DURING THE YEAR.\n     |      Convention 2: The model time t spans both historic and future age-cohorts, and the index SwitchTime -1 indicates the first future age-cohort.\n     |      Convention 3: SwitchTime = len(InitialStock) + 1, that means SwitchTime is counted starting from 1 and not 0.\n     |      Convention 4: The future stock time series has 0 as its first len(InitialStock) elements.\n     |      ***\n     |      In the year SwitchTime the model switches from the historic stock to the stock-driven approach. \n     |      The year SwitchTime is the first year with the stock-driven approach.\n     |      InitialStock contains the age-cohort composition of the stock AT THE END of year SwitchTime -1.\n     |          InitialStock must have length = SwithTime -1.\n     |      For the option \"NegativeInflowCorrect\", see the explanations for the method compute_stock_driven_model(self, NegativeInflowCorrect = True).\n     |      NegativeInflowCorrect only affects the future stock time series and works exactly as for the stock-driven model without initial stock.\n     |  \n     |  compute_stock_driven_model_initialstock_typesplit(self, FutureStock, InitialStock, SFArrayCombined, TypeSplit)\n     |      With given total future stock and lifetime distribution, the method builds the stock by cohort and the inflow.\n     |      The age structure of the initial stock is given for each technology, and a type split of total inflow into different technology types is given as well.\n     |      \n     |      SPECIFICATION: Stocks are always measured AT THE END of the discrete time interval.\n     |      \n     |      Indices:\n     |        t: time: Entire time frame: from earliest age-cohort to latest model year.\n     |        c: age-cohort: same as time.\n     |        T: Switch time: DEFINED as first year where historic stock is NOT present, = last year where historic stock is present +1.\n     |           Switchtime is calculated internally, by subtracting the length of the historic stock from the total model length.\n     |        g: product type\n     |      \n     |      Data:\n     |        FutureStock[t],           total future stock at end of each year, starting at T\n     |        InitialStock[c,g],        0...T-1;0...T-1, stock at the end of T-1, by age-cohort c, ranging from 0...T-1, and product type g\n     |                                  c-dimension has full length, all future years must be 0.\n     |        SFArrayCombined[t,c,g],   Survival function of age-cohort c at end of year t for product type g\n     |                                  this array spans both historic and future age-cohorts\n     |        Typesplit[t,g],           splits total inflow into product types for future years \n     |          \n     |      The extra parameter InitialStock is a vector that contains the age structure of the stock at time t0, and it covers as many historic cohorts as there are elements in it.\n     |      In the year SwitchTime the model switches from the historic stock to the stock-driven approach.\n     |      Only future years, i.e., years after SwitchTime, are computed and returned.\n     |      The InitialStock is a vector of the age-cohort composition of the stock at SwitchTime, with length SwitchTime.\n     |      The parameter TypeSplit splits the total inflow into Ng types.\n     |  \n     |  compute_stock_driven_model_initialstock_typesplit_negativeinflowcorrect(self, SwitchTime, InitialStock, SFArrayCombined, TypeSplit, NegativeInflowCorrect=False)\n     |      With given total future stock and lifetime distribution, the method builds the stock by cohort and the inflow.\n     |      The age structure of the initial stock is given for each technology, and a type split of total inflow into different technology types is given as well.\n     |      For the option \"NegativeInflowCorrect\", see the explanations for the method compute_stock_driven_model(self, NegativeInflowCorrect = True).\n     |      NegativeInflowCorrect only affects the future stock time series and works exactly as for the stock-driven model without initial stock.\n     |      \n     |      SPECIFICATION: Stocks are always measured AT THE END of the discrete time interval.\n     |      \n     |      Indices:\n     |        t: time: Entire time frame: from earliest age-cohort to latest model year.\n     |        c: age-cohort: same as time.\n     |        T: Switch time: DEFINED as first year where historic stock is NOT present, = last year where historic stock is present +1.\n     |           Switchtime must be given as argument. Example: if the first three age-cohorts are historic, SwitchTime is 3, which indicates the 4th year.\n     |           That also means that the first 3 time-entries for the stock and typesplit arrays must be 0.\n     |        g: product type\n     |      \n     |      Data:\n     |        s[t],                     total future stock time series, at end of each year, starting at T, trailing 0s for historic years.\n     |                                  ! is not handed over with the function call but earlier, when defining the dsm.\n     |        InitialStock[c,g],        0...T-1;0...T-1, stock at the end of T-1, by age-cohort c, ranging from 0...T-1, and product type g\n     |                                  c-dimension has full length, all future years must be 0.\n     |        SFArrayCombined[t,c,g],   Survival function of age-cohort c at end of year t for product type g\n     |                                  this array spans both historic and future age-cohorts\n     |        Typesplit[t,g],           splits total inflow into product types for future years \n     |        NegativeInflowCorrect     BOOL, retains items in stock if their leaving would lead to negative inflows. \n     |          \n     |      The extra parameter InitialStock is a vector that contains the age structure of the stock at time t0, and it covers as many historic cohorts as there are elements in it.\n     |      In the year SwitchTime the model switches from the historic stock to the stock-driven approach.\n     |      Only future years, i.e., years after SwitchTime, are computed and returned.\n     |      The InitialStock is a vector of the age-cohort composition of the stock at SwitchTime, with length SwitchTime.\n     |      The parameter TypeSplit splits the total inflow into Ng types.\n     |  \n     |  compute_stock_total(self)\n     |      Determine total stock as row sum of cohort-specific stock.\n     |  \n     |  dimension_check(self)\n     |      This method checks which variables are present and checks whether data types and dimensions match\n     |  \n     |  ----------------------------------------------------------------------\n     |  Data descriptors defined here:\n     |  \n     |  __dict__\n     |      dictionary for instance variables (if defined)\n     |  \n     |  __weakref__\n     |      list of weak references to the object (if defined)\n\nVERSION\n    <function __version__ at 0x7fe0b33a2d40>\n\nFILE\n    /Users/fernaag/Box/Teaching/TEP4290/2021/Github_repo/TEP4290/dynamic_stock_model/DSM tutorial/dynamic_stock_model.py\n\n\n"
     ]
    }
   ],
   "source": [
    "# Let's have a look at what is included in the dsm package\n",
    "help(dsm)"
   ]
  },
  {
   "cell_type": "code",
   "execution_count": 6,
   "metadata": {},
   "outputs": [
    {
     "output_type": "execute_result",
     "data": {
      "text/plain": [
       "   Unnamed: 0  EV stock  Stock change  Inflows  Outflows\n",
       "0        2000         0           NaN      NaN       NaN\n",
       "1        2001         0           NaN      NaN       NaN\n",
       "2        2002       193           NaN      NaN       NaN\n",
       "3        2003       221           NaN      NaN       NaN\n",
       "4        2004       251           NaN      NaN       NaN"
      ],
      "text/html": "<div>\n<style scoped>\n    .dataframe tbody tr th:only-of-type {\n        vertical-align: middle;\n    }\n\n    .dataframe tbody tr th {\n        vertical-align: top;\n    }\n\n    .dataframe thead th {\n        text-align: right;\n    }\n</style>\n<table border=\"1\" class=\"dataframe\">\n  <thead>\n    <tr style=\"text-align: right;\">\n      <th></th>\n      <th>Unnamed: 0</th>\n      <th>EV stock</th>\n      <th>Stock change</th>\n      <th>Inflows</th>\n      <th>Outflows</th>\n    </tr>\n  </thead>\n  <tbody>\n    <tr>\n      <th>0</th>\n      <td>2000</td>\n      <td>0</td>\n      <td>NaN</td>\n      <td>NaN</td>\n      <td>NaN</td>\n    </tr>\n    <tr>\n      <th>1</th>\n      <td>2001</td>\n      <td>0</td>\n      <td>NaN</td>\n      <td>NaN</td>\n      <td>NaN</td>\n    </tr>\n    <tr>\n      <th>2</th>\n      <td>2002</td>\n      <td>193</td>\n      <td>NaN</td>\n      <td>NaN</td>\n      <td>NaN</td>\n    </tr>\n    <tr>\n      <th>3</th>\n      <td>2003</td>\n      <td>221</td>\n      <td>NaN</td>\n      <td>NaN</td>\n      <td>NaN</td>\n    </tr>\n    <tr>\n      <th>4</th>\n      <td>2004</td>\n      <td>251</td>\n      <td>NaN</td>\n      <td>NaN</td>\n      <td>NaN</td>\n    </tr>\n  </tbody>\n</table>\n</div>"
     },
     "metadata": {},
     "execution_count": 6
    }
   ],
   "source": [
    "# We can now read our data\n",
    "data = pd.read_excel('Data.xlsx')\n",
    "# And let's also have a look\n",
    "data.head()"
   ]
  },
  {
   "source": [
    "Make sure to have a good understanding of yoru data first and of what needs to be done. Clean your data first, it will make it easier for you to deal with it later"
   ],
   "cell_type": "markdown",
   "metadata": {}
  },
  {
   "cell_type": "code",
   "execution_count": 7,
   "metadata": {},
   "outputs": [
    {
     "output_type": "execute_result",
     "data": {
      "text/plain": [
       "    Year  EV stock  Stock change  Inflows  Outflows\n",
       "0   2000         0           NaN      NaN       NaN\n",
       "1   2001         0           NaN      NaN       NaN\n",
       "2   2002       193           NaN      NaN       NaN\n",
       "3   2003       221           NaN      NaN       NaN\n",
       "4   2004       251           NaN      NaN       NaN\n",
       "5   2005       255           NaN      NaN       NaN\n",
       "6   2006       265           NaN      NaN       NaN\n",
       "7   2007       266           NaN      NaN       NaN\n",
       "8   2008       430           NaN      NaN       NaN\n",
       "9   2009       535           NaN      NaN       NaN\n",
       "10  2010       865           NaN      NaN       NaN\n",
       "11  2011      2865           NaN      NaN       NaN\n",
       "12  2012      6488           NaN      NaN       NaN\n",
       "13  2013     13923           NaN      NaN       NaN\n",
       "14  2014     30990           NaN      NaN       NaN\n",
       "15  2015     55206           NaN      NaN       NaN\n",
       "16  2016     77664           NaN      NaN       NaN\n",
       "17  2017    108215           NaN      NaN       NaN\n",
       "18  2018    150779           NaN      NaN       NaN\n",
       "19  2019    211229           NaN      NaN       NaN"
      ],
      "text/html": "<div>\n<style scoped>\n    .dataframe tbody tr th:only-of-type {\n        vertical-align: middle;\n    }\n\n    .dataframe tbody tr th {\n        vertical-align: top;\n    }\n\n    .dataframe thead th {\n        text-align: right;\n    }\n</style>\n<table border=\"1\" class=\"dataframe\">\n  <thead>\n    <tr style=\"text-align: right;\">\n      <th></th>\n      <th>Year</th>\n      <th>EV stock</th>\n      <th>Stock change</th>\n      <th>Inflows</th>\n      <th>Outflows</th>\n    </tr>\n  </thead>\n  <tbody>\n    <tr>\n      <th>0</th>\n      <td>2000</td>\n      <td>0</td>\n      <td>NaN</td>\n      <td>NaN</td>\n      <td>NaN</td>\n    </tr>\n    <tr>\n      <th>1</th>\n      <td>2001</td>\n      <td>0</td>\n      <td>NaN</td>\n      <td>NaN</td>\n      <td>NaN</td>\n    </tr>\n    <tr>\n      <th>2</th>\n      <td>2002</td>\n      <td>193</td>\n      <td>NaN</td>\n      <td>NaN</td>\n      <td>NaN</td>\n    </tr>\n    <tr>\n      <th>3</th>\n      <td>2003</td>\n      <td>221</td>\n      <td>NaN</td>\n      <td>NaN</td>\n      <td>NaN</td>\n    </tr>\n    <tr>\n      <th>4</th>\n      <td>2004</td>\n      <td>251</td>\n      <td>NaN</td>\n      <td>NaN</td>\n      <td>NaN</td>\n    </tr>\n    <tr>\n      <th>5</th>\n      <td>2005</td>\n      <td>255</td>\n      <td>NaN</td>\n      <td>NaN</td>\n      <td>NaN</td>\n    </tr>\n    <tr>\n      <th>6</th>\n      <td>2006</td>\n      <td>265</td>\n      <td>NaN</td>\n      <td>NaN</td>\n      <td>NaN</td>\n    </tr>\n    <tr>\n      <th>7</th>\n      <td>2007</td>\n      <td>266</td>\n      <td>NaN</td>\n      <td>NaN</td>\n      <td>NaN</td>\n    </tr>\n    <tr>\n      <th>8</th>\n      <td>2008</td>\n      <td>430</td>\n      <td>NaN</td>\n      <td>NaN</td>\n      <td>NaN</td>\n    </tr>\n    <tr>\n      <th>9</th>\n      <td>2009</td>\n      <td>535</td>\n      <td>NaN</td>\n      <td>NaN</td>\n      <td>NaN</td>\n    </tr>\n    <tr>\n      <th>10</th>\n      <td>2010</td>\n      <td>865</td>\n      <td>NaN</td>\n      <td>NaN</td>\n      <td>NaN</td>\n    </tr>\n    <tr>\n      <th>11</th>\n      <td>2011</td>\n      <td>2865</td>\n      <td>NaN</td>\n      <td>NaN</td>\n      <td>NaN</td>\n    </tr>\n    <tr>\n      <th>12</th>\n      <td>2012</td>\n      <td>6488</td>\n      <td>NaN</td>\n      <td>NaN</td>\n      <td>NaN</td>\n    </tr>\n    <tr>\n      <th>13</th>\n      <td>2013</td>\n      <td>13923</td>\n      <td>NaN</td>\n      <td>NaN</td>\n      <td>NaN</td>\n    </tr>\n    <tr>\n      <th>14</th>\n      <td>2014</td>\n      <td>30990</td>\n      <td>NaN</td>\n      <td>NaN</td>\n      <td>NaN</td>\n    </tr>\n    <tr>\n      <th>15</th>\n      <td>2015</td>\n      <td>55206</td>\n      <td>NaN</td>\n      <td>NaN</td>\n      <td>NaN</td>\n    </tr>\n    <tr>\n      <th>16</th>\n      <td>2016</td>\n      <td>77664</td>\n      <td>NaN</td>\n      <td>NaN</td>\n      <td>NaN</td>\n    </tr>\n    <tr>\n      <th>17</th>\n      <td>2017</td>\n      <td>108215</td>\n      <td>NaN</td>\n      <td>NaN</td>\n      <td>NaN</td>\n    </tr>\n    <tr>\n      <th>18</th>\n      <td>2018</td>\n      <td>150779</td>\n      <td>NaN</td>\n      <td>NaN</td>\n      <td>NaN</td>\n    </tr>\n    <tr>\n      <th>19</th>\n      <td>2019</td>\n      <td>211229</td>\n      <td>NaN</td>\n      <td>NaN</td>\n      <td>NaN</td>\n    </tr>\n  </tbody>\n</table>\n</div>"
     },
     "metadata": {},
     "execution_count": 7
    }
   ],
   "source": [
    "# We rename the column for the year\n",
    "data.rename(columns={'Unnamed: 0': 'Year'})"
   ]
  },
  {
   "cell_type": "code",
   "execution_count": 8,
   "metadata": {},
   "outputs": [
    {
     "output_type": "execute_result",
     "data": {
      "text/plain": [
       "   Unnamed: 0  EV stock  Stock change  Inflows  Outflows\n",
       "0        2000         0           NaN      NaN       NaN\n",
       "1        2001         0           NaN      NaN       NaN\n",
       "2        2002       193           NaN      NaN       NaN\n",
       "3        2003       221           NaN      NaN       NaN\n",
       "4        2004       251           NaN      NaN       NaN"
      ],
      "text/html": "<div>\n<style scoped>\n    .dataframe tbody tr th:only-of-type {\n        vertical-align: middle;\n    }\n\n    .dataframe tbody tr th {\n        vertical-align: top;\n    }\n\n    .dataframe thead th {\n        text-align: right;\n    }\n</style>\n<table border=\"1\" class=\"dataframe\">\n  <thead>\n    <tr style=\"text-align: right;\">\n      <th></th>\n      <th>Unnamed: 0</th>\n      <th>EV stock</th>\n      <th>Stock change</th>\n      <th>Inflows</th>\n      <th>Outflows</th>\n    </tr>\n  </thead>\n  <tbody>\n    <tr>\n      <th>0</th>\n      <td>2000</td>\n      <td>0</td>\n      <td>NaN</td>\n      <td>NaN</td>\n      <td>NaN</td>\n    </tr>\n    <tr>\n      <th>1</th>\n      <td>2001</td>\n      <td>0</td>\n      <td>NaN</td>\n      <td>NaN</td>\n      <td>NaN</td>\n    </tr>\n    <tr>\n      <th>2</th>\n      <td>2002</td>\n      <td>193</td>\n      <td>NaN</td>\n      <td>NaN</td>\n      <td>NaN</td>\n    </tr>\n    <tr>\n      <th>3</th>\n      <td>2003</td>\n      <td>221</td>\n      <td>NaN</td>\n      <td>NaN</td>\n      <td>NaN</td>\n    </tr>\n    <tr>\n      <th>4</th>\n      <td>2004</td>\n      <td>251</td>\n      <td>NaN</td>\n      <td>NaN</td>\n      <td>NaN</td>\n    </tr>\n  </tbody>\n</table>\n</div>"
     },
     "metadata": {},
     "execution_count": 8
    }
   ],
   "source": [
    "# But now if we check, it is still the same\n",
    "data.head()"
   ]
  },
  {
   "cell_type": "code",
   "execution_count": 9,
   "metadata": {},
   "outputs": [],
   "source": [
    "# We have two options:\n",
    "data.rename(columns={'Unnamed: 0': 'Year'}, inplace=True)\n",
    "# Or re-define the variable: data = data.rename(columns={'Unnamed: 0': 'Year'})"
   ]
  },
  {
   "cell_type": "code",
   "execution_count": 10,
   "metadata": {},
   "outputs": [
    {
     "output_type": "execute_result",
     "data": {
      "text/plain": [
       "   Year  EV stock  Stock change  Inflows  Outflows\n",
       "0  2000         0           NaN      NaN       NaN\n",
       "1  2001         0           NaN      NaN       NaN\n",
       "2  2002       193           NaN      NaN       NaN\n",
       "3  2003       221           NaN      NaN       NaN\n",
       "4  2004       251           NaN      NaN       NaN"
      ],
      "text/html": "<div>\n<style scoped>\n    .dataframe tbody tr th:only-of-type {\n        vertical-align: middle;\n    }\n\n    .dataframe tbody tr th {\n        vertical-align: top;\n    }\n\n    .dataframe thead th {\n        text-align: right;\n    }\n</style>\n<table border=\"1\" class=\"dataframe\">\n  <thead>\n    <tr style=\"text-align: right;\">\n      <th></th>\n      <th>Year</th>\n      <th>EV stock</th>\n      <th>Stock change</th>\n      <th>Inflows</th>\n      <th>Outflows</th>\n    </tr>\n  </thead>\n  <tbody>\n    <tr>\n      <th>0</th>\n      <td>2000</td>\n      <td>0</td>\n      <td>NaN</td>\n      <td>NaN</td>\n      <td>NaN</td>\n    </tr>\n    <tr>\n      <th>1</th>\n      <td>2001</td>\n      <td>0</td>\n      <td>NaN</td>\n      <td>NaN</td>\n      <td>NaN</td>\n    </tr>\n    <tr>\n      <th>2</th>\n      <td>2002</td>\n      <td>193</td>\n      <td>NaN</td>\n      <td>NaN</td>\n      <td>NaN</td>\n    </tr>\n    <tr>\n      <th>3</th>\n      <td>2003</td>\n      <td>221</td>\n      <td>NaN</td>\n      <td>NaN</td>\n      <td>NaN</td>\n    </tr>\n    <tr>\n      <th>4</th>\n      <td>2004</td>\n      <td>251</td>\n      <td>NaN</td>\n      <td>NaN</td>\n      <td>NaN</td>\n    </tr>\n  </tbody>\n</table>\n</div>"
     },
     "metadata": {},
     "execution_count": 10
    }
   ],
   "source": [
    "data.head()"
   ]
  },
  {
   "cell_type": "code",
   "execution_count": 13,
   "metadata": {},
   "outputs": [],
   "source": [
    "# It's not very nice to work with NaN values, lets use 0 instead\n",
    "data.fillna(0, inplace=True)"
   ]
  },
  {
   "cell_type": "code",
   "execution_count": 14,
   "metadata": {},
   "outputs": [
    {
     "output_type": "execute_result",
     "data": {
      "text/plain": [
       "   Year  EV stock  Stock change  Inflows  Outflows\n",
       "0  2000         0           0.0      0.0       0.0\n",
       "1  2001         0           0.0      0.0       0.0\n",
       "2  2002       193           0.0      0.0       0.0\n",
       "3  2003       221           0.0      0.0       0.0\n",
       "4  2004       251           0.0      0.0       0.0"
      ],
      "text/html": "<div>\n<style scoped>\n    .dataframe tbody tr th:only-of-type {\n        vertical-align: middle;\n    }\n\n    .dataframe tbody tr th {\n        vertical-align: top;\n    }\n\n    .dataframe thead th {\n        text-align: right;\n    }\n</style>\n<table border=\"1\" class=\"dataframe\">\n  <thead>\n    <tr style=\"text-align: right;\">\n      <th></th>\n      <th>Year</th>\n      <th>EV stock</th>\n      <th>Stock change</th>\n      <th>Inflows</th>\n      <th>Outflows</th>\n    </tr>\n  </thead>\n  <tbody>\n    <tr>\n      <th>0</th>\n      <td>2000</td>\n      <td>0</td>\n      <td>0.0</td>\n      <td>0.0</td>\n      <td>0.0</td>\n    </tr>\n    <tr>\n      <th>1</th>\n      <td>2001</td>\n      <td>0</td>\n      <td>0.0</td>\n      <td>0.0</td>\n      <td>0.0</td>\n    </tr>\n    <tr>\n      <th>2</th>\n      <td>2002</td>\n      <td>193</td>\n      <td>0.0</td>\n      <td>0.0</td>\n      <td>0.0</td>\n    </tr>\n    <tr>\n      <th>3</th>\n      <td>2003</td>\n      <td>221</td>\n      <td>0.0</td>\n      <td>0.0</td>\n      <td>0.0</td>\n    </tr>\n    <tr>\n      <th>4</th>\n      <td>2004</td>\n      <td>251</td>\n      <td>0.0</td>\n      <td>0.0</td>\n      <td>0.0</td>\n    </tr>\n  </tbody>\n</table>\n</div>"
     },
     "metadata": {},
     "execution_count": 14
    }
   ],
   "source": [
    "data.head()"
   ]
  },
  {
   "source": [
    "Now that we understand the data and have cleaned it, we can start modelling. Pandas is a very nice tool for having an overview of your data, but numpy is more pwerful for the calculations. Therefore, we will move to that format before using the dsm library"
   ],
   "cell_type": "markdown",
   "metadata": {}
  },
  {
   "cell_type": "code",
   "execution_count": 17,
   "metadata": {},
   "outputs": [],
   "source": [
    "year = data['Year'].to_numpy()\n",
    "stock = data['EV stock'].to_numpy()"
   ]
  },
  {
   "cell_type": "code",
   "execution_count": 20,
   "metadata": {},
   "outputs": [
    {
     "output_type": "execute_result",
     "data": {
      "text/plain": [
       "array([2000, 2001, 2002, 2003, 2004, 2005, 2006, 2007, 2008, 2009, 2010,\n",
       "       2011, 2012, 2013, 2014, 2015, 2016, 2017, 2018, 2019])"
      ]
     },
     "metadata": {},
     "execution_count": 20
    }
   ],
   "source": [
    "year"
   ]
  },
  {
   "cell_type": "code",
   "execution_count": 21,
   "metadata": {},
   "outputs": [
    {
     "output_type": "execute_result",
     "data": {
      "text/plain": [
       "20"
      ]
     },
     "metadata": {},
     "execution_count": 21
    }
   ],
   "source": [
    "# How many years do we have? \n",
    "len(year)"
   ]
  },
  {
   "cell_type": "code",
   "execution_count": 22,
   "metadata": {},
   "outputs": [
    {
     "output_type": "error",
     "ename": "IndexError",
     "evalue": "index 20 is out of bounds for axis 0 with size 20",
     "traceback": [
      "\u001b[0;31m---------------------------------------------------------------------------\u001b[0m",
      "\u001b[0;31mIndexError\u001b[0m                                Traceback (most recent call last)",
      "\u001b[0;32m<ipython-input-22-d55616633cd3>\u001b[0m in \u001b[0;36m<module>\u001b[0;34m\u001b[0m\n\u001b[1;32m      1\u001b[0m \u001b[0;31m# Beware of the 0 indexing\u001b[0m\u001b[0;34m\u001b[0m\u001b[0;34m\u001b[0m\u001b[0;34m\u001b[0m\u001b[0m\n\u001b[0;32m----> 2\u001b[0;31m \u001b[0myear\u001b[0m\u001b[0;34m[\u001b[0m\u001b[0;36m20\u001b[0m\u001b[0;34m]\u001b[0m\u001b[0;34m\u001b[0m\u001b[0;34m\u001b[0m\u001b[0m\n\u001b[0m",
      "\u001b[0;31mIndexError\u001b[0m: index 20 is out of bounds for axis 0 with size 20"
     ]
    }
   ],
   "source": [
    "# Beware of the 0 indexing\n",
    "year[20] # There are 20 items but the maximum index is 19. You can also use -1 instead."
   ]
  },
  {
   "source": [
    "## Building a model"
   ],
   "cell_type": "markdown",
   "metadata": {}
  },
  {
   "cell_type": "code",
   "execution_count": 25,
   "metadata": {},
   "outputs": [],
   "source": [
    "# Let' initiate/define an MFA model\n",
    "model = dsm.DynamicStockModel(t= year, s=stock, lt= {'Type': 'Normal', 'Mean': np.array([22]), 'StdDev': np.array([12])})"
   ]
  },
  {
   "cell_type": "code",
   "execution_count": 31,
   "metadata": {},
   "outputs": [],
   "source": [
    "stock_tc, outflow_tc, inflows_t = model.compute_stock_driven_model() # Check what is the output of this method\n",
    "ds = model.compute_stock_change()\n",
    "outflows_t = model.compute_outflow_total()"
   ]
  },
  {
   "cell_type": "code",
   "execution_count": 32,
   "metadata": {},
   "outputs": [
    {
     "output_type": "execute_result",
     "data": {
      "text/plain": [
       "(20, 20)"
      ]
     },
     "metadata": {},
     "execution_count": 32
    }
   ],
   "source": [
    "stock_tc.shape"
   ]
  },
  {
   "source": [
    "## Let's now compile and export the results"
   ],
   "cell_type": "markdown",
   "metadata": {}
  },
  {
   "cell_type": "code",
   "execution_count": 34,
   "metadata": {},
   "outputs": [],
   "source": [
    "data['Stock change'] = ds\n",
    "data['Inflows'] = inflows_t\n",
    "data['Outflows'] = outflows_t"
   ]
  },
  {
   "cell_type": "code",
   "execution_count": 35,
   "metadata": {},
   "outputs": [
    {
     "output_type": "execute_result",
     "data": {
      "text/plain": [
       "    Year  EV stock  Stock change       Inflows     Outflows\n",
       "0   2000         0           0.0      0.000000     0.000000\n",
       "1   2001         0           0.0      0.000000     0.000000\n",
       "2   2002       193         193.0    199.664090     6.664090\n",
       "3   2003       221          28.0     30.347168     2.347168\n",
       "4   2004       251          30.0     32.842613     2.842613\n",
       "5   2005       255           4.0      6.442625     2.442625\n",
       "6   2006       265          10.0     13.024727     3.024727\n",
       "7   2007       266           1.0      4.167978     3.167978\n",
       "8   2008       430         164.0    173.228727     9.228727\n",
       "9   2009       535         105.0    113.821921     8.821921\n",
       "10  2010       865         330.0    348.020293    18.020293\n",
       "11  2011      2865        2000.0   2078.891616    78.891616\n",
       "12  2012      6488        3623.0   3773.526622   150.526622\n",
       "13  2013     13923        7435.0   7746.789365   311.789365\n",
       "14  2014     30990       17067.0  17772.857762   705.857762\n",
       "15  2015     55206       24216.0  25308.578952  1092.578952\n",
       "16  2016     77664       22458.0  23702.590817  1244.590817\n",
       "17  2017    108215       30551.0  32307.387143  1756.387143\n",
       "18  2018    150779       42564.0  45058.579032  2494.579032\n",
       "19  2019    211229       60450.0  64016.849165  3566.849165"
      ],
      "text/html": "<div>\n<style scoped>\n    .dataframe tbody tr th:only-of-type {\n        vertical-align: middle;\n    }\n\n    .dataframe tbody tr th {\n        vertical-align: top;\n    }\n\n    .dataframe thead th {\n        text-align: right;\n    }\n</style>\n<table border=\"1\" class=\"dataframe\">\n  <thead>\n    <tr style=\"text-align: right;\">\n      <th></th>\n      <th>Year</th>\n      <th>EV stock</th>\n      <th>Stock change</th>\n      <th>Inflows</th>\n      <th>Outflows</th>\n    </tr>\n  </thead>\n  <tbody>\n    <tr>\n      <th>0</th>\n      <td>2000</td>\n      <td>0</td>\n      <td>0.0</td>\n      <td>0.000000</td>\n      <td>0.000000</td>\n    </tr>\n    <tr>\n      <th>1</th>\n      <td>2001</td>\n      <td>0</td>\n      <td>0.0</td>\n      <td>0.000000</td>\n      <td>0.000000</td>\n    </tr>\n    <tr>\n      <th>2</th>\n      <td>2002</td>\n      <td>193</td>\n      <td>193.0</td>\n      <td>199.664090</td>\n      <td>6.664090</td>\n    </tr>\n    <tr>\n      <th>3</th>\n      <td>2003</td>\n      <td>221</td>\n      <td>28.0</td>\n      <td>30.347168</td>\n      <td>2.347168</td>\n    </tr>\n    <tr>\n      <th>4</th>\n      <td>2004</td>\n      <td>251</td>\n      <td>30.0</td>\n      <td>32.842613</td>\n      <td>2.842613</td>\n    </tr>\n    <tr>\n      <th>5</th>\n      <td>2005</td>\n      <td>255</td>\n      <td>4.0</td>\n      <td>6.442625</td>\n      <td>2.442625</td>\n    </tr>\n    <tr>\n      <th>6</th>\n      <td>2006</td>\n      <td>265</td>\n      <td>10.0</td>\n      <td>13.024727</td>\n      <td>3.024727</td>\n    </tr>\n    <tr>\n      <th>7</th>\n      <td>2007</td>\n      <td>266</td>\n      <td>1.0</td>\n      <td>4.167978</td>\n      <td>3.167978</td>\n    </tr>\n    <tr>\n      <th>8</th>\n      <td>2008</td>\n      <td>430</td>\n      <td>164.0</td>\n      <td>173.228727</td>\n      <td>9.228727</td>\n    </tr>\n    <tr>\n      <th>9</th>\n      <td>2009</td>\n      <td>535</td>\n      <td>105.0</td>\n      <td>113.821921</td>\n      <td>8.821921</td>\n    </tr>\n    <tr>\n      <th>10</th>\n      <td>2010</td>\n      <td>865</td>\n      <td>330.0</td>\n      <td>348.020293</td>\n      <td>18.020293</td>\n    </tr>\n    <tr>\n      <th>11</th>\n      <td>2011</td>\n      <td>2865</td>\n      <td>2000.0</td>\n      <td>2078.891616</td>\n      <td>78.891616</td>\n    </tr>\n    <tr>\n      <th>12</th>\n      <td>2012</td>\n      <td>6488</td>\n      <td>3623.0</td>\n      <td>3773.526622</td>\n      <td>150.526622</td>\n    </tr>\n    <tr>\n      <th>13</th>\n      <td>2013</td>\n      <td>13923</td>\n      <td>7435.0</td>\n      <td>7746.789365</td>\n      <td>311.789365</td>\n    </tr>\n    <tr>\n      <th>14</th>\n      <td>2014</td>\n      <td>30990</td>\n      <td>17067.0</td>\n      <td>17772.857762</td>\n      <td>705.857762</td>\n    </tr>\n    <tr>\n      <th>15</th>\n      <td>2015</td>\n      <td>55206</td>\n      <td>24216.0</td>\n      <td>25308.578952</td>\n      <td>1092.578952</td>\n    </tr>\n    <tr>\n      <th>16</th>\n      <td>2016</td>\n      <td>77664</td>\n      <td>22458.0</td>\n      <td>23702.590817</td>\n      <td>1244.590817</td>\n    </tr>\n    <tr>\n      <th>17</th>\n      <td>2017</td>\n      <td>108215</td>\n      <td>30551.0</td>\n      <td>32307.387143</td>\n      <td>1756.387143</td>\n    </tr>\n    <tr>\n      <th>18</th>\n      <td>2018</td>\n      <td>150779</td>\n      <td>42564.0</td>\n      <td>45058.579032</td>\n      <td>2494.579032</td>\n    </tr>\n    <tr>\n      <th>19</th>\n      <td>2019</td>\n      <td>211229</td>\n      <td>60450.0</td>\n      <td>64016.849165</td>\n      <td>3566.849165</td>\n    </tr>\n  </tbody>\n</table>\n</div>"
     },
     "metadata": {},
     "execution_count": 35
    }
   ],
   "source": [
    "data"
   ]
  },
  {
   "cell_type": "code",
   "execution_count": 37,
   "metadata": {},
   "outputs": [],
   "source": [
    "data.to_excel('Results.xlsx')"
   ]
  }
 ],
 "metadata": {
  "language_info": {
   "codemirror_mode": {
    "name": "ipython",
    "version": 3
   },
   "file_extension": ".py",
   "mimetype": "text/x-python",
   "name": "python",
   "nbconvert_exporter": "python",
   "pygments_lexer": "ipython3",
   "version": "3.7.4-final"
  },
  "orig_nbformat": 2,
  "kernelspec": {
   "name": "python37464bitiamconda27353a31a79e4820b98e504311709f0d",
   "display_name": "Python 3.7.4 64-bit ('IAM': conda)",
   "language": "python"
  }
 },
 "nbformat": 4,
 "nbformat_minor": 2
}