{
 "cells": [
  {
   "cell_type": "markdown",
   "metadata": {},
   "source": [
    "# Export to Excel tutorial"
   ]
  },
  {
   "cell_type": "markdown",
   "metadata": {},
   "source": [
    "Unfortunately, it is not always straightforward to export results from Python to Excel, especially to an existing workbook.\n",
    "In this notebook, we will look at a few examples."
   ]
  },
  {
   "cell_type": "markdown",
   "metadata": {},
   "source": [
    "## Preparation: Data import and preparation"
   ]
  },
  {
   "cell_type": "markdown",
   "metadata": {
    "slideshow": {
     "slide_type": "slide"
    }
   },
   "source": [
    "This step is just to get some sample data, similar to the first assignment."
   ]
  },
  {
   "cell_type": "code",
   "execution_count": 14,
   "metadata": {
    "ExecuteTime": {
     "end_time": "2020-02-04T12:02:44.221484Z",
     "start_time": "2020-02-04T12:02:44.167163Z"
    }
   },
   "outputs": [],
   "source": [
    "#Importing necessary packages\n",
    "import pandas as pd\n",
    "\n",
    "# Extracting data from the source file into a panda Dataframe\n",
    "file = \"Exercise_1_Data.xlsx\"\n",
    "# This file should be placed in the same directory as this notebook (on the JupyterHub server)\n",
    "\n",
    "# We read the data and store it in a Dataframe called \"data\", using the read_excel() panda function\n",
    "data = pd.read_excel(file, sheet_name = 'CarStockData', usecols='D:P', skiprows=4 )\n",
    "# sheet_name, usecols and skiprows help us select the right data\n",
    "\n",
    "# This is just to replace all the void values in \"data\" by 0, which makes things easier\n",
    "data.fillna(0, inplace=True)"
   ]
  },
  {
   "cell_type": "markdown",
   "metadata": {},
   "source": [
    "We randomly modify a bit the data, so that it looks a bit different from the original one. Of course, in the assignment, you need to use dynamic MFA methods to calculate all missing values."
   ]
  },
  {
   "cell_type": "code",
   "execution_count": 15,
   "metadata": {
    "ExecuteTime": {
     "end_time": "2020-02-04T12:02:44.233159Z",
     "start_time": "2020-02-04T12:02:44.225198Z"
    }
   },
   "outputs": [],
   "source": [
    "data['Outflow'] = data['Time'] - data['Inflow'] \n",
    "data['Stock Change'] = data['Inflow'] - data['Outflow']\n",
    "data['Total km driven'] =  data['Stock'] * data['Kilometrage per vehicle']"
   ]
  },
  {
   "cell_type": "markdown",
   "metadata": {},
   "source": [
    "Create two Dataframes from data:\n",
    " - historic_data with values up to 2008\n",
    " - future_data with values for 2009 and after\n"
   ]
  },
  {
   "cell_type": "markdown",
   "metadata": {},
   "source": [
    "## Export the whole dataframe to a new workbook"
   ]
  },
  {
   "cell_type": "markdown",
   "metadata": {},
   "source": [
    "This is probably the easiest method: you dump all the data to a new workbook. Then, it is really easy to either copy-paste it manually in another workbook or using Excel formulas to update automatically. \n",
    "\n",
    "Warning: This method would not work with an existing workbook, as it would be erased without warning.\n",
    "\n",
    "We use the pandas.DataFrame.to_excel function, but we might have to install the xlwt package first:"
   ]
  },
  {
   "cell_type": "code",
   "execution_count": 16,
   "metadata": {
    "ExecuteTime": {
     "end_time": "2020-02-04T12:02:47.071553Z",
     "start_time": "2020-02-04T12:02:44.236753Z"
    }
   },
   "outputs": [
    {
     "name": "stdout",
     "output_type": "stream",
     "text": [
      "Requirement already satisfied: xlwt in /opt/conda/lib/python3.7/site-packages (1.3.0)\r\n"
     ]
    }
   ],
   "source": [
    "\"\"\"\n",
    "The first time you try this, you might need to run this code first \n",
    "to install the xlwt package in the jupyter environment\n",
    "\"\"\"\n",
    "\n",
    "import sys\n",
    "!{sys.executable} -m pip install xlwt"
   ]
  },
  {
   "cell_type": "code",
   "execution_count": 17,
   "metadata": {
    "ExecuteTime": {
     "end_time": "2020-02-04T12:02:47.134960Z",
     "start_time": "2020-02-04T12:02:47.080529Z"
    }
   },
   "outputs": [],
   "source": [
    "# This will export the data in a new file named Results.xlsx, in a sheet named Results. \n",
    "# Check the help of this function for the meaning of additional parameters\n",
    "\n",
    "data.to_excel('Results.xls', sheet_name='Results')"
   ]
  },
  {
   "cell_type": "markdown",
   "metadata": {
    "ExecuteTime": {
     "end_time": "2020-02-04T11:46:14.300093Z",
     "start_time": "2020-02-04T11:46:14.288435Z"
    }
   },
   "source": [
    "You will get a new Excel file in your Jupyter directory, that you can download and modify locally on your computer.\n",
    "\n",
    "Note: it is possible to do the same thing with the xlsxwriter package."
   ]
  },
  {
   "cell_type": "markdown",
   "metadata": {},
   "source": [
    "## Exports the results to an existing workbook"
   ]
  },
  {
   "cell_type": "markdown",
   "metadata": {
    "ExecuteTime": {
     "end_time": "2019-01-16T14:41:59.777979Z",
     "start_time": "2019-01-16T14:41:59.730594Z"
    }
   },
   "source": [
    "Neither the to_excel function in pandas nor the xlsxwriter packages enable export to an existing workbook without erasing it. This is because these functions can only write in a workbook, not read it.\n",
    "\n",
    "Therefore, to write in an existing workbook, we need to install the openpyxl package:"
   ]
  },
  {
   "cell_type": "code",
   "execution_count": 18,
   "metadata": {
    "ExecuteTime": {
     "end_time": "2020-02-04T12:02:49.915498Z",
     "start_time": "2020-02-04T12:02:47.138859Z"
    }
   },
   "outputs": [
    {
     "name": "stdout",
     "output_type": "stream",
     "text": [
      "Requirement already satisfied: openpyxl in /opt/conda/lib/python3.7/site-packages (3.0.3)\r\n",
      "Requirement already satisfied: jdcal in /opt/conda/lib/python3.7/site-packages (from openpyxl) (1.4.1)\r\n",
      "Requirement already satisfied: et-xmlfile in /opt/conda/lib/python3.7/site-packages (from openpyxl) (1.0.1)\r\n"
     ]
    }
   ],
   "source": [
    "import sys\n",
    "!{sys.executable} -m pip install openpyxl"
   ]
  },
  {
   "cell_type": "markdown",
   "metadata": {},
   "source": [
    "There are multiple ways to use this package. Notably, you can read and edit single cells, a range of cells, or you can iterate on them. You can also do some formatting etc., even if this would probably be easier directly in Excel. Do not hesitate to check the documentation for tutorials and examples.\n",
    "\n",
    "Below is an example of a function found on <a href=\"https://stackoverflow.com/questions/36447758/writing-pandas-data-frame-to-existing-workbook\">stackoverflow</a> that enable to export a Dataframe to an existing Excel workbook without erasing existing the other content. Note: it only works with .xlsx files, so to use it on the original data file of the exercise, you will need  to convert it from .xls to .xlsx before reuploading it to the Jupyter server.\n"
   ]
  },
  {
   "cell_type": "code",
   "execution_count": 19,
   "metadata": {
    "ExecuteTime": {
     "end_time": "2020-02-04T12:02:49.937472Z",
     "start_time": "2020-02-04T12:02:49.923258Z"
    }
   },
   "outputs": [],
   "source": [
    "def append_df_to_excel(filename, df, sheet_name='Sheet1', startrow=None,\n",
    "                       truncate_sheet=False, \n",
    "                       **to_excel_kwargs):\n",
    "    \"\"\"\n",
    "    Append a DataFrame [df] to existing Excel file [filename]\n",
    "    into [sheet_name] Sheet.\n",
    "    If [filename] doesn't exist, then this function will create it.\n",
    "\n",
    "    Parameters:\n",
    "      filename : File path or existing ExcelWriter\n",
    "                 (Example: '/path/to/file.xlsx')\n",
    "      df : dataframe to save to workbook\n",
    "      sheet_name : Name of sheet which will contain DataFrame.\n",
    "                   (default: 'Sheet1')\n",
    "      startrow : upper left cell row to dump data frame.\n",
    "                 Per default (startrow=None) calculate the last row\n",
    "                 in the existing DF and write to the next row...\n",
    "      truncate_sheet : truncate (remove and recreate) [sheet_name]\n",
    "                       before writing DataFrame to Excel file\n",
    "      to_excel_kwargs : arguments which will be passed to `DataFrame.to_excel()`\n",
    "                        [can be dictionary]\n",
    "\n",
    "    Returns: None\n",
    "    \"\"\"\n",
    "    from openpyxl import load_workbook\n",
    "\n",
    "    # ignore [engine] parameter if it was passed\n",
    "    if 'engine' in to_excel_kwargs:\n",
    "        to_excel_kwargs.pop('engine')\n",
    "\n",
    "    writer = pd.ExcelWriter(filename, engine='openpyxl')\n",
    "\n",
    "    try:\n",
    "        # try to open an existing workbook\n",
    "        writer.book = load_workbook(filename)\n",
    "\n",
    "        # get the last row in the existing Excel sheet\n",
    "        # if it was not specified explicitly\n",
    "        if startrow is None and sheet_name in writer.book.sheetnames:\n",
    "            startrow = writer.book[sheet_name].max_row\n",
    "\n",
    "        # truncate sheet\n",
    "        if truncate_sheet and sheet_name in writer.book.sheetnames:\n",
    "            # index of [sheet_name] sheet\n",
    "            idx = writer.book.sheetnames.index(sheet_name)\n",
    "            # remove [sheet_name]\n",
    "            writer.book.remove(writer.book.worksheets[idx])\n",
    "            # create an empty sheet [sheet_name] using old index\n",
    "            writer.book.create_sheet(sheet_name, idx)\n",
    "\n",
    "        # copy existing sheets\n",
    "        writer.sheets = {ws.title:ws for ws in writer.book.worksheets}\n",
    "    except FileNotFoundError:\n",
    "        # file does not exist yet, we will create it\n",
    "        pass\n",
    "\n",
    "    if startrow is None:\n",
    "        startrow = 0\n",
    "\n",
    "    # write out the new sheet\n",
    "    df.to_excel(writer, sheet_name, startrow=startrow, **to_excel_kwargs)\n",
    "\n",
    "    # save the workbook\n",
    "    writer.save()"
   ]
  },
  {
   "cell_type": "markdown",
   "metadata": {},
   "source": [
    "And here is an example of how to use this function for the first assignment (note the use of the parameters to write in the right place in the worksheet):"
   ]
  },
  {
   "cell_type": "code",
   "execution_count": 20,
   "metadata": {
    "ExecuteTime": {
     "end_time": "2020-02-04T12:02:50.428355Z",
     "start_time": "2020-02-04T12:02:49.940791Z"
    }
   },
   "outputs": [],
   "source": [
    "# Works only for .xlsx files\n",
    "append_df_to_excel('Exercise_1_Data.xlsx', data, sheet_name=\"CarStockData\", startrow=4, startcol=3, index=False)"
   ]
  },
  {
   "cell_type": "markdown",
   "metadata": {},
   "source": []
  }
 ],
 "metadata": {
  "kernelspec": {
   "display_name": "Python 3",
   "language": "python",
   "name": "python3"
  },
  "language_info": {
   "codemirror_mode": {
    "name": "ipython",
    "version": 3
   },
   "file_extension": ".py",
   "mimetype": "text/x-python",
   "name": "python",
   "nbconvert_exporter": "python",
   "pygments_lexer": "ipython3",
   "version": "3.7.4"
  },
  "toc": {
   "base_numbering": 1,
   "nav_menu": {},
   "number_sections": true,
   "sideBar": true,
   "skip_h1_title": false,
   "title_cell": "Table of Contents",
   "title_sidebar": "Contents",
   "toc_cell": false,
   "toc_position": {},
   "toc_section_display": true,
   "toc_window_display": false
  }
 },
 "nbformat": 4,
 "nbformat_minor": 2
}
